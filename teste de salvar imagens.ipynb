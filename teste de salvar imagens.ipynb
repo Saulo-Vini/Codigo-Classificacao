{
  "nbformat": 4,
  "nbformat_minor": 0,
  "metadata": {
    "colab": {
      "provenance": [],
      "authorship_tag": "ABX9TyMOoamqidwDwGx1AKi0HIOL",
      "include_colab_link": true
    },
    "kernelspec": {
      "name": "python3",
      "display_name": "Python 3"
    },
    "language_info": {
      "name": "python"
    }
  },
  "cells": [
    {
      "cell_type": "markdown",
      "metadata": {
        "id": "view-in-github",
        "colab_type": "text"
      },
      "source": [
        "<a href=\"https://colab.research.google.com/github/Saulo-Vini/Codigo-Classificacao/blob/main/teste%20de%20salvar%20imagens.ipynb\" target=\"_parent\"><img src=\"https://colab.research.google.com/assets/colab-badge.svg\" alt=\"Open In Colab\"/></a>"
      ]
    },
    {
      "cell_type": "code",
      "execution_count": 2,
      "metadata": {
        "colab": {
          "base_uri": "https://localhost:8080/"
        },
        "id": "2OYqpJhZshJO",
        "outputId": "fca0b031-984a-4468-90ba-ce67c8a955d2"
      },
      "outputs": [
        {
          "output_type": "stream",
          "name": "stdout",
          "text": [
            "Cloning into 'IC'...\n",
            "remote: Enumerating objects: 43, done.\u001b[K\n",
            "remote: Counting objects: 100% (43/43), done.\u001b[K\n",
            "remote: Compressing objects: 100% (39/39), done.\u001b[K\n",
            "remote: Total 43 (delta 0), reused 0 (delta 0), pack-reused 0 (from 0)\u001b[K\n",
            "Receiving objects: 100% (43/43), 4.94 MiB | 21.79 MiB/s, done.\n"
          ]
        }
      ],
      "source": [
        "!git clone 'https://github.com/Saulo-Vini/IC.git'"
      ]
    },
    {
      "cell_type": "code",
      "source": [
        "%cd  IC"
      ],
      "metadata": {
        "colab": {
          "base_uri": "https://localhost:8080/"
        },
        "id": "0P6fBmRHs_kC",
        "outputId": "279b2ddc-5439-4dc8-f0de-fa9d26fd3808"
      },
      "execution_count": 3,
      "outputs": [
        {
          "output_type": "stream",
          "name": "stdout",
          "text": [
            "/content/IC\n"
          ]
        }
      ]
    },
    {
      "cell_type": "code",
      "source": [
        "\n",
        "%cd  IC\n",
        "!echo \"/content/original.png\" > original.png"
      ],
      "metadata": {
        "colab": {
          "base_uri": "https://localhost:8080/"
        },
        "id": "82tslT7Htj8R",
        "outputId": "05149ea5-bb0b-449b-ba4b-a31618bdb9af"
      },
      "execution_count": 11,
      "outputs": [
        {
          "output_type": "stream",
          "name": "stdout",
          "text": [
            "[Errno 2] No such file or directory: 'IC'\n",
            "/content/IC\n"
          ]
        }
      ]
    },
    {
      "cell_type": "code",
      "source": [
        "\n",
        "!echo \"/content/original.png\" > original.png\n",
        "!git add .\n",
        "!git commit -m \"teste de adicionar arquivo\"\n",
        "\n",
        "!git config --global user.email \"saulo.santos@ig.ufpa.br\"\n",
        "!git config --global user.name \"Saulo-Vini\"\n",
        "\n",
        "!git push origin main"
      ],
      "metadata": {
        "colab": {
          "base_uri": "https://localhost:8080/"
        },
        "id": "xeWc5FNsuEKQ",
        "outputId": "fc535ca5-ccc3-47f9-9e72-50e40cd7bf53"
      },
      "execution_count": 12,
      "outputs": [
        {
          "output_type": "stream",
          "name": "stdout",
          "text": [
            "[main 16b380e] teste de adicionar arquivo\n",
            " 1 file changed, 1 insertion(+), 1 deletion(-)\n",
            "fatal: could not read Username for 'https://github.com': No such device or address\n"
          ]
        }
      ]
    }
  ]
}